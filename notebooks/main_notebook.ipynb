{
 "cells": [
  {
   "cell_type": "code",
   "execution_count": 1,
   "id": "41e6a7c8-ab01-4d8d-a021-89b906d4c5c6",
   "metadata": {},
   "outputs": [],
   "source": [
    "%load_ext autoreload\n",
    "%autoreload 2"
   ]
  },
  {
   "cell_type": "code",
   "execution_count": 2,
   "id": "fbfe2d57-1da4-4b72-a082-785eba635d56",
   "metadata": {},
   "outputs": [],
   "source": [
    "import sys\n",
    "from pathlib import Path"
   ]
  },
  {
   "cell_type": "code",
   "execution_count": 6,
   "id": "f6f169c8-3d91-4855-b05f-e337c77ed46b",
   "metadata": {},
   "outputs": [],
   "source": [
    "sys.path.append('../')"
   ]
  },
  {
   "cell_type": "code",
   "execution_count": 23,
   "id": "1d57fbec-7f2d-40a4-9e90-8b2f58590c31",
   "metadata": {},
   "outputs": [
    {
     "data": {
      "text/plain": [
       "WindowsPath('C:/Users/andri/YandexDisk/Projects/ml_nlp_mentoring_with_roman/projects/speech4tracking/notebooks')"
      ]
     },
     "execution_count": 23,
     "metadata": {},
     "output_type": "execute_result"
    }
   ],
   "source": [
    "Path.cwd()"
   ]
  },
  {
   "cell_type": "markdown",
   "id": "fba2cadc-ffa5-4c65-9655-7fa3963598ff",
   "metadata": {},
   "source": [
    "# Recognize selected files"
   ]
  },
  {
   "cell_type": "code",
   "execution_count": 8,
   "id": "2424dcc2-c0fe-4a4e-9200-55d059a31807",
   "metadata": {},
   "outputs": [],
   "source": [
    "from modules.voice.voice_records_recognizer import VoiceRecordsRecognizer"
   ]
  },
  {
   "cell_type": "markdown",
   "id": "97420e54-7e6f-4c3c-a3e7-41d58814304d",
   "metadata": {},
   "source": [
    "## Specify selected files"
   ]
  },
  {
   "cell_type": "code",
   "execution_count": 34,
   "id": "5e8753e1-4851-4e89-b1cc-2dbf56679a1f",
   "metadata": {},
   "outputs": [],
   "source": [
    "src_path = './../data/voice_records/'\n",
    "records_names = ['recorded_audio_0.wav'] # doesn't work as a tuple. why?"
   ]
  },
  {
   "cell_type": "markdown",
   "id": "6b1fdd05-def6-4dba-85c6-a146bf5edb88",
   "metadata": {},
   "source": [
    "## Upload and Recognize"
   ]
  },
  {
   "cell_type": "markdown",
   "id": "6fae5cc2-f9a3-47ab-a40f-3c6fe44cc30d",
   "metadata": {},
   "source": [
    "### selected records"
   ]
  },
  {
   "cell_type": "code",
   "execution_count": 35,
   "id": "0ef8ddf7-7090-48c4-b947-7b5170aceb79",
   "metadata": {},
   "outputs": [],
   "source": [
    "recognizer = VoiceRecordsRecognizer() # initialize an instance\n",
    "recognized_recs = recognizer.speech2text(src_dir=src_path, voice_records_names=records_names)"
   ]
  },
  {
   "cell_type": "code",
   "execution_count": 36,
   "id": "400f7b33-765f-48c7-b10e-f9efd8475b3e",
   "metadata": {},
   "outputs": [
    {
     "data": {
      "text/plain": [
       "[('systolic 117 diastolic 64 heart rate 73',\n",
       "  WindowsPath('../data/voice_records/recorded_audio_0.wav'))]"
      ]
     },
     "execution_count": 36,
     "metadata": {},
     "output_type": "execute_result"
    }
   ],
   "source": [
    "recognized_recs"
   ]
  },
  {
   "cell_type": "markdown",
   "id": "e4c1bf72-0f57-4c99-8455-86148e879256",
   "metadata": {},
   "source": [
    "### all records"
   ]
  },
  {
   "cell_type": "code",
   "execution_count": 37,
   "id": "7edd3338-267e-4e09-bcf6-afb94dc4de47",
   "metadata": {},
   "outputs": [],
   "source": [
    "# if voice_records_names is not specified, then all .wav files inside the provided src_dir will be uploaded and recognized\n",
    "all_recognized_recs = recognizer.speech2text(src_dir=src_path)  "
   ]
  },
  {
   "cell_type": "code",
   "execution_count": 38,
   "id": "ee7677df-8f4b-4f68-8f9f-cb282163bcc3",
   "metadata": {},
   "outputs": [
    {
     "data": {
      "text/plain": [
       "[('systolic 117 diastolic 64 heart rate 73',\n",
       "  WindowsPath('../data/voice_records/recorded_audio_0.wav')),\n",
       " ('systolic 124 diastolic 67 heart rate 49',\n",
       "  WindowsPath('../data/voice_records/recorded_audio_1.wav')),\n",
       " ('systolic 170 diastolic 50 heart rate 67',\n",
       "  WindowsPath('../data/voice_records/recorded_audio_2.wav'))]"
      ]
     },
     "execution_count": 38,
     "metadata": {},
     "output_type": "execute_result"
    }
   ],
   "source": [
    "all_recognized_recs"
   ]
  },
  {
   "cell_type": "markdown",
   "id": "0e982931-1870-4cd0-9528-bd5f145ee89b",
   "metadata": {},
   "source": [
    "## Recognize Patterns (blood pressure and heart rate)"
   ]
  },
  {
   "cell_type": "code",
   "execution_count": 39,
   "id": "1c36a5bb-5bcf-4e1a-8212-e185159a4969",
   "metadata": {},
   "outputs": [],
   "source": [
    "from modules.voice.pattern_recognizer import PatternRecognizer"
   ]
  },
  {
   "cell_type": "code",
   "execution_count": 40,
   "id": "eccf936c-8ff6-4848-9195-9f42e1cd7d8d",
   "metadata": {},
   "outputs": [],
   "source": [
    "patterns = PatternRecognizer()\n",
    "all_recognized_patterns = patterns.blood_pressure_heart_rate(all_recognized_recs)"
   ]
  },
  {
   "cell_type": "code",
   "execution_count": 41,
   "id": "57d286d4-c16c-4eb9-b254-22f0b4541b2b",
   "metadata": {},
   "outputs": [
    {
     "data": {
      "text/plain": [
       "([WindowsPath('../data/voice_records/recorded_audio_0.wav'),\n",
       "  WindowsPath('../data/voice_records/recorded_audio_1.wav'),\n",
       "  WindowsPath('../data/voice_records/recorded_audio_2.wav')],\n",
       " [117, 124, 170],\n",
       " [64, 67, 50],\n",
       " [73, 49, 67])"
      ]
     },
     "execution_count": 41,
     "metadata": {},
     "output_type": "execute_result"
    }
   ],
   "source": [
    "all_recognized_patterns"
   ]
  },
  {
   "cell_type": "markdown",
   "id": "8d1e4ae9-926e-4bd6-846d-1596100be710",
   "metadata": {},
   "source": [
    "## Prepare a dataset"
   ]
  },
  {
   "cell_type": "code",
   "execution_count": 43,
   "id": "d423d7e6-9355-498b-8cef-1bd8fa104f06",
   "metadata": {},
   "outputs": [],
   "source": [
    "from modules.dataset.patterns2dataset import Patterns2Dataset"
   ]
  },
  {
   "cell_type": "code",
   "execution_count": 44,
   "id": "8f3cb1b0-df62-43f5-a449-e2f032bb46ef",
   "metadata": {},
   "outputs": [
    {
     "data": {
      "text/plain": [
       "{'time_stamp': ['2023-09-10 16:26:28.002859',\n",
       "  '2023-09-10 16:29:58.858700',\n",
       "  '2023-09-10 16:30:49.978290'],\n",
       " 'record_name': [WindowsPath('../data/voice_records/recorded_audio_0.wav'),\n",
       "  WindowsPath('../data/voice_records/recorded_audio_1.wav'),\n",
       "  WindowsPath('../data/voice_records/recorded_audio_2.wav')],\n",
       " 'sys': [117, 124, 170],\n",
       " 'dia': [64, 67, 50],\n",
       " 'heart_rate': [73, 49, 67]}"
      ]
     },
     "execution_count": 44,
     "metadata": {},
     "output_type": "execute_result"
    }
   ],
   "source": [
    "dataset = Patterns2Dataset()\n",
    "# by default the dataset will be provided in the form of python dictionary\n",
    "dataset.blood_pressure_heart_rate(all_recognized_patterns)"
   ]
  },
  {
   "cell_type": "code",
   "execution_count": 46,
   "id": "8389a59d-42b8-4058-9401-db18ea2ac476",
   "metadata": {},
   "outputs": [
    {
     "data": {
      "text/html": [
       "<div>\n",
       "<style scoped>\n",
       "    .dataframe tbody tr th:only-of-type {\n",
       "        vertical-align: middle;\n",
       "    }\n",
       "\n",
       "    .dataframe tbody tr th {\n",
       "        vertical-align: top;\n",
       "    }\n",
       "\n",
       "    .dataframe thead th {\n",
       "        text-align: right;\n",
       "    }\n",
       "</style>\n",
       "<table border=\"1\" class=\"dataframe\">\n",
       "  <thead>\n",
       "    <tr style=\"text-align: right;\">\n",
       "      <th></th>\n",
       "      <th>time_stamp</th>\n",
       "      <th>record_name</th>\n",
       "      <th>sys</th>\n",
       "      <th>dia</th>\n",
       "      <th>heart_rate</th>\n",
       "    </tr>\n",
       "  </thead>\n",
       "  <tbody>\n",
       "    <tr>\n",
       "      <th>0</th>\n",
       "      <td>2023-09-10 16:26:28.002859</td>\n",
       "      <td>..\\data\\voice_records\\recorded_audio_0.wav</td>\n",
       "      <td>117</td>\n",
       "      <td>64</td>\n",
       "      <td>73</td>\n",
       "    </tr>\n",
       "    <tr>\n",
       "      <th>1</th>\n",
       "      <td>2023-09-10 16:29:58.858700</td>\n",
       "      <td>..\\data\\voice_records\\recorded_audio_1.wav</td>\n",
       "      <td>124</td>\n",
       "      <td>67</td>\n",
       "      <td>49</td>\n",
       "    </tr>\n",
       "    <tr>\n",
       "      <th>2</th>\n",
       "      <td>2023-09-10 16:30:49.978290</td>\n",
       "      <td>..\\data\\voice_records\\recorded_audio_2.wav</td>\n",
       "      <td>170</td>\n",
       "      <td>50</td>\n",
       "      <td>67</td>\n",
       "    </tr>\n",
       "  </tbody>\n",
       "</table>\n",
       "</div>"
      ],
      "text/plain": [
       "                   time_stamp                                 record_name  \\\n",
       "0  2023-09-10 16:26:28.002859  ..\\data\\voice_records\\recorded_audio_0.wav   \n",
       "1  2023-09-10 16:29:58.858700  ..\\data\\voice_records\\recorded_audio_1.wav   \n",
       "2  2023-09-10 16:30:49.978290  ..\\data\\voice_records\\recorded_audio_2.wav   \n",
       "\n",
       "   sys  dia  heart_rate  \n",
       "0  117   64          73  \n",
       "1  124   67          49  \n",
       "2  170   50          67  "
      ]
     },
     "execution_count": 46,
     "metadata": {},
     "output_type": "execute_result"
    }
   ],
   "source": [
    "# if as_df=True, then the dataset will be returned in the form of pandas.DataFrame\n",
    "dataset.blood_pressure_heart_rate(all_recognized_patterns, as_df=True)"
   ]
  },
  {
   "cell_type": "code",
   "execution_count": null,
   "id": "3bf57f22-78c5-45c9-98ac-02924e44e071",
   "metadata": {},
   "outputs": [],
   "source": []
  }
 ],
 "metadata": {
  "kernelspec": {
   "display_name": "Python 3 (ipykernel)",
   "language": "python",
   "name": "python3"
  },
  "language_info": {
   "codemirror_mode": {
    "name": "ipython",
    "version": 3
   },
   "file_extension": ".py",
   "mimetype": "text/x-python",
   "name": "python",
   "nbconvert_exporter": "python",
   "pygments_lexer": "ipython3",
   "version": "3.10.13"
  }
 },
 "nbformat": 4,
 "nbformat_minor": 5
}
